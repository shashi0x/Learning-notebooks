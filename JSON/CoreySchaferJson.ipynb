{
 "cells": [
  {
   "cell_type": "markdown",
   "id": "58a1aba9",
   "metadata": {},
   "source": [
    "## JSON library python tutorial by corey schafer\n",
    "[Video link](https://www.youtube.com/watch?v=9N6a-VLBa2I)\n",
    "\n",
    "here we will learn to handle json files in python.  \n",
    "first of all we will load json as python objects from a string which contains json content"
   ]
  },
  {
   "cell_type": "code",
   "execution_count": 5,
   "id": "ee4d2637",
   "metadata": {},
   "outputs": [
    {
     "name": "stdout",
     "output_type": "stream",
     "text": [
      "<class 'list'>\n",
      "<class 'dict'>\n"
     ]
    }
   ],
   "source": [
    "import json\n",
    "\n",
    "listCar = '''[\n",
    "    {\n",
    "        \"name\": \"shashi\",\n",
    "        \"age\": 19\n",
    "    },\n",
    "    {\n",
    "        \"name\": \"aaaa\",\n",
    "        \"age\": 18\n",
    "    }\n",
    "]'''\n",
    "\n",
    "dictCar = '''{\n",
    "    \"List\": [\n",
    "    {\n",
    "        \"name\": \"shashi\",\n",
    "        \"age\": 19\n",
    "    },\n",
    "    {\n",
    "        \"name\": \"aaaa\",\n",
    "        \"age\": 18\n",
    "    }\n",
    "]}'''\n",
    "\n",
    "jsonObjL = json.loads(listCar)\n",
    "jsonObjD = json.loads(dictCar)\n",
    "\n",
    "print(type(jsonObjL))\n",
    "print(type(jsonObjD))"
   ]
  },
  {
   "cell_type": "markdown",
   "id": "8e7d354c",
   "metadata": {},
   "source": [
    "following is the conversion table for json to python object conevrsion when json.loads is used:  \n",
    "| JSON    | Python  |\n",
    "|---------|---------|\n",
    "|object   |dict     |\n",
    "|array    |list     |\n",
    "|string   |str      |\n",
    "|int|float|\n",
    "|float|float|\n",
    "|true|True|\n",
    "|false|False|\n",
    "|null|None|"
   ]
  }
 ],
 "metadata": {
  "kernelspec": {
   "display_name": "base",
   "language": "python",
   "name": "python3"
  },
  "language_info": {
   "codemirror_mode": {
    "name": "ipython",
    "version": 3
   },
   "file_extension": ".py",
   "mimetype": "text/x-python",
   "name": "python",
   "nbconvert_exporter": "python",
   "pygments_lexer": "ipython3",
   "version": "3.12.7"
  }
 },
 "nbformat": 4,
 "nbformat_minor": 5
}
