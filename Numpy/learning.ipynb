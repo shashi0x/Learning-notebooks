{
 "cells": [
  {
   "cell_type": "markdown",
   "id": "dfa490b2",
   "metadata": {},
   "source": [
    "# Let's polish my numpy skills with w3schools\n",
    "as i already know numpy but need more confidence in it, i will kind of revising it via w3schools in a more structured manner."
   ]
  },
  {
   "cell_type": "markdown",
   "id": "ed8a0c4d",
   "metadata": {},
   "source": [
    "## Creating an array\n",
    "to creatte an array, we can pass a list, tuple or any array-like object into np.array() method"
   ]
  },
  {
   "cell_type": "code",
   "execution_count": 1,
   "id": "0d4c487b",
   "metadata": {},
   "outputs": [
    {
     "name": "stdout",
     "output_type": "stream",
     "text": [
      "[1 2 3 4 5] [1 2 3 4 5]\n",
      "<class 'numpy.ndarray'> <class 'numpy.ndarray'>\n"
     ]
    }
   ],
   "source": [
    "import numpy as np\n",
    "\n",
    "arr = np.array([1, 2, 3, 4, 5]) #list\n",
    "arr2 = np.array((1, 2, 3, 4, 5)) #tuple\n",
    "\n",
    "print(arr, arr2)\n",
    "\n",
    "print(type(arr), type(arr2))"
   ]
  },
  {
   "cell_type": "markdown",
   "id": "dc26d5eb",
   "metadata": {},
   "source": [
    "### Dimensions in arrays\n",
    "#### 0-D or scalars"
   ]
  },
  {
   "cell_type": "code",
   "execution_count": 5,
   "id": "c3d2d81e",
   "metadata": {},
   "outputs": [
    {
     "name": "stdout",
     "output_type": "stream",
     "text": [
      "42\n"
     ]
    }
   ],
   "source": [
    "arr0D = np.array(42)\n",
    "print(arr0D)"
   ]
  },
  {
   "cell_type": "markdown",
   "id": "5bb51778",
   "metadata": {},
   "source": [
    "#### 1-D"
   ]
  },
  {
   "cell_type": "code",
   "execution_count": 7,
   "id": "ebf6939f",
   "metadata": {},
   "outputs": [
    {
     "name": "stdout",
     "output_type": "stream",
     "text": [
      "[1 2 3 4 5]\n"
     ]
    }
   ],
   "source": [
    "arr1D = np.array([1, 2, 3, 4, 5])\n",
    "print(arr1D)"
   ]
  },
  {
   "cell_type": "markdown",
   "id": "d5fec9d8",
   "metadata": {},
   "source": [
    "#### 2-D"
   ]
  },
  {
   "cell_type": "code",
   "execution_count": null,
   "id": "54c8a117",
   "metadata": {},
   "outputs": [
    {
     "name": "stdout",
     "output_type": "stream",
     "text": [
      "[[1 2 3]\n",
      " [4 5 6]]\n"
     ]
    }
   ],
   "source": [
    "arr2D = np.array([[1,2,3], [4, 5,6]])\n",
    "print(arr2D)"
   ]
  },
  {
   "cell_type": "markdown",
   "id": "dc7fef5e",
   "metadata": {},
   "source": [
    "#### 3-D"
   ]
  },
  {
   "cell_type": "code",
   "execution_count": 26,
   "id": "b1492773",
   "metadata": {},
   "outputs": [
    {
     "name": "stdout",
     "output_type": "stream",
     "text": [
      "[[[ 1  2  3]\n",
      "  [ 4  5  6]]\n",
      "\n",
      " [[11 22  3]\n",
      "  [44 55 66]]]\n"
     ]
    }
   ],
   "source": [
    "arr3D = np.array([[[1, 2, 3], [4, 5, 6]], [[11, 22, 3], [44, 55, 66]]])\n",
    "print(arr3D)"
   ]
  },
  {
   "cell_type": "markdown",
   "id": "3af58553",
   "metadata": {},
   "source": [
    "#### check number of dimensions"
   ]
  },
  {
   "cell_type": "code",
   "execution_count": 14,
   "id": "ddbcf8ef",
   "metadata": {},
   "outputs": [
    {
     "name": "stdout",
     "output_type": "stream",
     "text": [
      "3\n"
     ]
    },
    {
     "data": {
      "text/plain": [
       "False"
      ]
     },
     "execution_count": 14,
     "metadata": {},
     "output_type": "execute_result"
    }
   ],
   "source": [
    "print(arr3D.ndim)\n",
    "callable(arr3D.ndim) # this is how you know if a function is callable or not"
   ]
  },
  {
   "cell_type": "markdown",
   "id": "2d6a3805",
   "metadata": {},
   "source": [
    "#### Higher dimensional Arrays\n",
    "we can define number of dimensions while creating an array"
   ]
  },
  {
   "cell_type": "code",
   "execution_count": 17,
   "id": "fb05ce32",
   "metadata": {},
   "outputs": [
    {
     "name": "stdout",
     "output_type": "stream",
     "text": [
      "[[[[[1 2 3 4]]]]]\n",
      "number of dim : 5\n"
     ]
    }
   ],
   "source": [
    "arrHD = np.array([1, 2, 3, 4], ndmin=5)\n",
    "print(arrHD)\n",
    "print('number of dim :', arrHD.ndim)"
   ]
  },
  {
   "cell_type": "markdown",
   "id": "27ad8aff",
   "metadata": {},
   "source": [
    "in this array the innermost dim(5th dim) has 4 elements, 4th dim has 1, 3rd has 1, 2nd has 1 too and so had 1st"
   ]
  },
  {
   "cell_type": "markdown",
   "id": "2c626510",
   "metadata": {},
   "source": [
    "## Numpy array indexing\n",
    "### Access array elements\n",
    "array indexing is same as accessing an array element"
   ]
  },
  {
   "cell_type": "code",
   "execution_count": 20,
   "id": "015b319f",
   "metadata": {},
   "outputs": [
    {
     "name": "stdout",
     "output_type": "stream",
     "text": [
      "1\n",
      "2\n",
      "5\n"
     ]
    }
   ],
   "source": [
    "# arr = np.array([1, 2, 3, 4, 5])\n",
    "print(arr[0])\n",
    "print(arr[1])\n",
    "print(arr[4])"
   ]
  },
  {
   "cell_type": "markdown",
   "id": "05cee34d",
   "metadata": {},
   "source": [
    "#### Accessing 2-D\n",
    "we can use comma seperated integers representing dimension and the index of the element.  \n",
    "think of dimension like row and index as column for the array "
   ]
  },
  {
   "cell_type": "code",
   "execution_count": null,
   "id": "3a8ae5ec",
   "metadata": {},
   "outputs": [
    {
     "name": "stdout",
     "output_type": "stream",
     "text": [
      "2nd element of 1st row:  2\n"
     ]
    }
   ],
   "source": [
    "# arr2D = np.array([[1, 2, 3], [4, 5, 6]])\n",
    "print('2nd element of 1st row: ', arr2D[0, 1])"
   ]
  },
  {
   "cell_type": "markdown",
   "id": "d7e6004e",
   "metadata": {},
   "source": [
    "#### Accessing 3-D\n",
    "we can use comma seperated integers representing the dimensions and the index of the element"
   ]
  },
  {
   "cell_type": "code",
   "execution_count": 27,
   "id": "1c246e43",
   "metadata": {},
   "outputs": [
    {
     "name": "stdout",
     "output_type": "stream",
     "text": [
      "6\n"
     ]
    }
   ],
   "source": [
    "# arr3D = np.array([[[1, 2, 3], [4, 5, 6]], [[11, 22, 3], [44, 55, 66]]])\n",
    "print(arr3D[0, 1, 2])"
   ]
  },
  {
   "cell_type": "markdown",
   "id": "b5e4e23c",
   "metadata": {},
   "source": [
    "#### Negative indexing\n",
    "we can use negative indexing to access an array from end"
   ]
  },
  {
   "cell_type": "code",
   "execution_count": 29,
   "id": "7723c992",
   "metadata": {},
   "outputs": [
    {
     "name": "stdout",
     "output_type": "stream",
     "text": [
      "last element from 2nd dim:  6\n"
     ]
    }
   ],
   "source": [
    "array1 = np.array([[1, 2, 3], [4, 5, 6]])\n",
    "\n",
    "print('last element from 2nd dim: ', array1[1, -1])"
   ]
  },
  {
   "cell_type": "markdown",
   "id": "4a615f02",
   "metadata": {},
   "source": [
    "## Numpy array slicing\n",
    "### Slicing arrays\n",
    "slicing here means making an array by taking element from one element to another.  \n",
    "* we pass slice instead of index like this: *[start:end]*  \n",
    "* we can also define the step, like this: *[start:end:step]*  \n",
    "* if we don't pass start, it's considered 0  \n",
    "* if we don't pass end, it's condidered length of array in that dimension  \n",
    "* if we don't pass step, its considered 1  \n",
    "**The result includes the start index but exludes the end index**"
   ]
  },
  {
   "cell_type": "code",
   "execution_count": 30,
   "id": "c8942021",
   "metadata": {},
   "outputs": [
    {
     "name": "stdout",
     "output_type": "stream",
     "text": [
      "[2 3 4 5]\n"
     ]
    }
   ],
   "source": [
    "array2 = np.array([1, 2, 3, 4, 5, 6, 7])\n",
    "print(array2[1:5])"
   ]
  },
  {
   "cell_type": "markdown",
   "id": "6e0d4b3e",
   "metadata": {},
   "source": [
    "#### Negative slicing\n",
    "use the minus operator to refer an index from the end"
   ]
  },
  {
   "cell_type": "code",
   "execution_count": 31,
   "id": "2b941f32",
   "metadata": {},
   "outputs": [
    {
     "name": "stdout",
     "output_type": "stream",
     "text": [
      "[5 6]\n"
     ]
    }
   ],
   "source": [
    "print(array2[-3:-1])"
   ]
  },
  {
   "cell_type": "markdown",
   "id": "4a968635",
   "metadata": {},
   "source": [
    "#### Step\n",
    "we use **step** to have steps in our slicing"
   ]
  },
  {
   "cell_type": "code",
   "execution_count": 33,
   "id": "b61afd92",
   "metadata": {},
   "outputs": [
    {
     "name": "stdout",
     "output_type": "stream",
     "text": [
      "[2 4]\n"
     ]
    }
   ],
   "source": [
    "print(array2[1:5:2])"
   ]
  },
  {
   "cell_type": "markdown",
   "id": "df455f9c",
   "metadata": {},
   "source": [
    "returning every alternate element"
   ]
  },
  {
   "cell_type": "code",
   "execution_count": 34,
   "id": "c53865ed",
   "metadata": {},
   "outputs": [
    {
     "name": "stdout",
     "output_type": "stream",
     "text": [
      "[1 3 5 7]\n"
     ]
    }
   ],
   "source": [
    "print(array2[::2])"
   ]
  },
  {
   "cell_type": "markdown",
   "id": "d0bfe90c",
   "metadata": {},
   "source": [
    "### Slicing 2-D arrays"
   ]
  },
  {
   "cell_type": "code",
   "execution_count": 35,
   "id": "80053bee",
   "metadata": {},
   "outputs": [
    {
     "name": "stdout",
     "output_type": "stream",
     "text": [
      "[7 8 9]\n"
     ]
    }
   ],
   "source": [
    "# from the second element, slice elements from index 1 to index 4 (not included)\n",
    "\n",
    "arr2 = np.array([[1, 2, 3, 4, 5], [6, 7, 8, 9, 10]])\n",
    "\n",
    "print(arr2[1, 1:4])"
   ]
  },
  {
   "cell_type": "markdown",
   "id": "387afc42",
   "metadata": {},
   "source": [
    "we can also use slicing for both dim and index"
   ]
  },
  {
   "cell_type": "code",
   "execution_count": 38,
   "id": "a2f15905",
   "metadata": {},
   "outputs": [
    {
     "name": "stdout",
     "output_type": "stream",
     "text": [
      "[15 25]\n"
     ]
    }
   ],
   "source": [
    "qrr = np.array([10, 15, 20, 25, 30, 35, 40])\n",
    "print(qrr[1:4:2])"
   ]
  },
  {
   "cell_type": "markdown",
   "id": "4043af50",
   "metadata": {},
   "source": [
    "## Data types in numpy\n",
    "\n",
    "getting the datatype of a numpy array"
   ]
  },
  {
   "cell_type": "code",
   "execution_count": 5,
   "id": "07ec695b",
   "metadata": {},
   "outputs": [
    {
     "name": "stdout",
     "output_type": "stream",
     "text": [
      "int32\n",
      "<U5\n"
     ]
    }
   ],
   "source": [
    "print(arr.dtype)\n",
    "strArr  = np.array(['ssssh', 'as', 'hi'])\n",
    "print(strArr.dtype)"
   ]
  },
  {
   "cell_type": "markdown",
   "id": "3aa76438",
   "metadata": {},
   "source": [
    "here's a list of codes for each datatype in numpy  \n",
    "* i - integer\n",
    "* b - boolean\n",
    "* u - unsigned integer\n",
    "* f - float\n",
    "* c - complex float\n",
    "* m - timedelta\n",
    "* M - datetime\n",
    "* O - object\n",
    "* S - string\n",
    "* U - unicode string (the number that follows it shows the length of longest string)\n",
    "* V - fixed chunk of memory for other type ( void )"
   ]
  },
  {
   "cell_type": "markdown",
   "id": "e8ad21bc",
   "metadata": {},
   "source": [
    "### Creating an array with specified datatype\n",
    "in numpy we can specify the data type of elements while creating an array"
   ]
  },
  {
   "cell_type": "code",
   "execution_count": 10,
   "id": "84c8e7a7",
   "metadata": {},
   "outputs": [
    {
     "name": "stdout",
     "output_type": "stream",
     "text": [
      "[b'1' b'2' b'3' b'4']\n"
     ]
    }
   ],
   "source": [
    "arrString = np.array([1, 2, 3, 4], dtype='S')\n",
    "print(arrString)"
   ]
  },
  {
   "cell_type": "markdown",
   "id": "e54c48cc",
   "metadata": {},
   "source": [
    "For i, u, f, S and U we can define size as well.  \n",
    "for example we can create an array of datatype i4, which means number which takes 4 bytes (i.e., 32 bits) size"
   ]
  },
  {
   "cell_type": "code",
   "execution_count": 12,
   "id": "5c35e297",
   "metadata": {},
   "outputs": [
    {
     "name": "stdout",
     "output_type": "stream",
     "text": [
      "int32\n"
     ]
    }
   ],
   "source": [
    "arr4bit = np.array([4, 5, 6], dtype='i4')\n",
    "print(arr4bit.dtype)"
   ]
  },
  {
   "cell_type": "markdown",
   "id": "02531528",
   "metadata": {},
   "source": [
    "### Converting datatype of an existing array\n",
    "one way to convert the datatype of a numpy array is to create a copy of it using astype() function which gives us the ability to specify the datatype as an argument.  \n",
    "for example"
   ]
  },
  {
   "cell_type": "code",
   "execution_count": 15,
   "id": "12f968d6",
   "metadata": {},
   "outputs": [
    {
     "name": "stdout",
     "output_type": "stream",
     "text": [
      "[1 2 3 4]\n",
      "int32\n"
     ]
    }
   ],
   "source": [
    "arrInt = arrString.astype(dtype='i')\n",
    "print(arrInt)\n",
    "print(arrInt.dtype)"
   ]
  },
  {
   "cell_type": "markdown",
   "id": "f422359d",
   "metadata": {},
   "source": [
    "we can also convert from int to boolean"
   ]
  },
  {
   "cell_type": "code",
   "execution_count": 16,
   "id": "ff6e2800",
   "metadata": {},
   "outputs": [
    {
     "name": "stdout",
     "output_type": "stream",
     "text": [
      "[ True False  True]\n"
     ]
    }
   ],
   "source": [
    "arrBool = np.array([1, 0, 3]).astype(dtype=bool)\n",
    "print(arrBool)"
   ]
  },
  {
   "cell_type": "markdown",
   "id": "df06774d",
   "metadata": {},
   "source": [
    "## Numpy array COPY vs VIEW\n",
    "the main difference between both is that the copy is a new array independent of the original one while view is just a view of the original one, so any change to copy won't affect the original one but for view it does.  \n",
    "### COPY\n",
    "for example copying an array and then making changes to the copy"
   ]
  },
  {
   "cell_type": "code",
   "execution_count": 17,
   "id": "4e3df975",
   "metadata": {},
   "outputs": [
    {
     "name": "stdout",
     "output_type": "stream",
     "text": [
      "[2 4 7]\n",
      "[9 4 7]\n"
     ]
    }
   ],
   "source": [
    "arrOrig = np.array([2, 4, 7])\n",
    "arrCopy = arrOrig.copy()\n",
    "arrCopy[0] = 9\n",
    "\n",
    "print(arrOrig)\n",
    "print(arrCopy)"
   ]
  },
  {
   "cell_type": "markdown",
   "id": "58fe7e5b",
   "metadata": {},
   "source": [
    "### VIEW\n",
    "for example, create a view and then edit the original one and then print both"
   ]
  },
  {
   "cell_type": "code",
   "execution_count": 18,
   "id": "33bd744c",
   "metadata": {},
   "outputs": [
    {
     "name": "stdout",
     "output_type": "stream",
     "text": [
      "[12  4  7]\n",
      "[12  4  7]\n"
     ]
    }
   ],
   "source": [
    "arrView = arrOrig.view()\n",
    "arrOrig[0] = 12\n",
    "\n",
    "print(arrOrig)\n",
    "print(arrView)"
   ]
  },
  {
   "cell_type": "markdown",
   "id": "a1682314",
   "metadata": {},
   "source": [
    "so it's a view, that's why both changed.  \n",
    "now let's make a change in the view and then see both"
   ]
  },
  {
   "cell_type": "code",
   "execution_count": 19,
   "id": "a1aa472f",
   "metadata": {},
   "outputs": [
    {
     "name": "stdout",
     "output_type": "stream",
     "text": [
      "[12 98  7]\n",
      "[12 98  7]\n"
     ]
    }
   ],
   "source": [
    "arrView[1] = 98\n",
    "\n",
    "print(arrView)\n",
    "print(arrOrig)"
   ]
  },
  {
   "cell_type": "markdown",
   "id": "0af3a12c",
   "metadata": {},
   "source": [
    "again both changes, as stated earlier.  \n",
    "### Check if Array Owns its Data\n",
    "As mentioned above, copies owns the data, and views does not own the data, but how can we check this?  \n",
    "Every NumPy array has the attribute base that returns None if the array owns the data.  \n",
    "Otherwise, the base  attribute refers to the original object.  "
   ]
  },
  {
   "cell_type": "code",
   "execution_count": 20,
   "id": "fd2ce4d6",
   "metadata": {},
   "outputs": [
    {
     "name": "stdout",
     "output_type": "stream",
     "text": [
      "[12 98  7]\n",
      "None\n",
      "None\n"
     ]
    }
   ],
   "source": [
    "print(arrView.base)\n",
    "print(arrCopy.base)\n",
    "print(arrOrig.base)"
   ]
  },
  {
   "cell_type": "markdown",
   "id": "cbe48643",
   "metadata": {},
   "source": [
    "[yaha se](https://www.w3schools.com/python/numpy/numpy_array_shape.asp)"
   ]
  }
 ],
 "metadata": {
  "kernelspec": {
   "display_name": "base",
   "language": "python",
   "name": "python3"
  },
  "language_info": {
   "codemirror_mode": {
    "name": "ipython",
    "version": 3
   },
   "file_extension": ".py",
   "mimetype": "text/x-python",
   "name": "python",
   "nbconvert_exporter": "python",
   "pygments_lexer": "ipython3",
   "version": "3.12.7"
  }
 },
 "nbformat": 4,
 "nbformat_minor": 5
}
