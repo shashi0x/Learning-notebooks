{
 "cells": [
  {
   "cell_type": "markdown",
   "id": "dfa490b2",
   "metadata": {},
   "source": [
    "# Let's polish my numpy skills with w3schools\n",
    "as i already know numpy but need more confidence in it, i will kind of revising it via w3schools in a more structured manner."
   ]
  },
  {
   "cell_type": "markdown",
   "id": "ed8a0c4d",
   "metadata": {},
   "source": [
    "## Creating an array\n",
    "to creatte an array, we can pass a list, tuple or any array-like object into np.array() method"
   ]
  },
  {
   "cell_type": "code",
   "execution_count": 2,
   "id": "0d4c487b",
   "metadata": {},
   "outputs": [
    {
     "name": "stdout",
     "output_type": "stream",
     "text": [
      "[1 2 3 4 5] [1 2 3 4 5]\n",
      "<class 'numpy.ndarray'> <class 'numpy.ndarray'>\n"
     ]
    }
   ],
   "source": [
    "import numpy as np\n",
    "\n",
    "arr = np.array([1, 2, 3, 4, 5]) #list\n",
    "arr2 = np.array((1, 2, 3, 4, 5)) #tuple\n",
    "\n",
    "print(arr, arr2)\n",
    "\n",
    "print(type(arr), type(arr2))"
   ]
  },
  {
   "cell_type": "markdown",
   "id": "dc26d5eb",
   "metadata": {},
   "source": [
    "### Dimensions in arrays\n",
    "#### 0-D or scalars"
   ]
  },
  {
   "cell_type": "code",
   "execution_count": 3,
   "id": "c3d2d81e",
   "metadata": {},
   "outputs": [
    {
     "name": "stdout",
     "output_type": "stream",
     "text": [
      "42\n"
     ]
    }
   ],
   "source": [
    "arr0D = np.array(42)\n",
    "print(arr0D)"
   ]
  },
  {
   "cell_type": "markdown",
   "id": "5bb51778",
   "metadata": {},
   "source": [
    "#### 1-D"
   ]
  },
  {
   "cell_type": "code",
   "execution_count": 4,
   "id": "ebf6939f",
   "metadata": {},
   "outputs": [
    {
     "name": "stdout",
     "output_type": "stream",
     "text": [
      "[1 2 3 4 5]\n"
     ]
    }
   ],
   "source": [
    "arr1D = np.array([1, 2, 3, 4, 5])\n",
    "print(arr1D)"
   ]
  },
  {
   "cell_type": "markdown",
   "id": "d5fec9d8",
   "metadata": {},
   "source": [
    "#### 2-D"
   ]
  },
  {
   "cell_type": "code",
   "execution_count": 5,
   "id": "54c8a117",
   "metadata": {},
   "outputs": [
    {
     "name": "stdout",
     "output_type": "stream",
     "text": [
      "[[1 2 3]\n",
      " [4 5 6]]\n"
     ]
    }
   ],
   "source": [
    "arr2D = np.array([[1,2,3], [4, 5,6]])\n",
    "print(arr2D)"
   ]
  },
  {
   "cell_type": "markdown",
   "id": "dc7fef5e",
   "metadata": {},
   "source": [
    "#### 3-D"
   ]
  },
  {
   "cell_type": "code",
   "execution_count": 6,
   "id": "b1492773",
   "metadata": {},
   "outputs": [
    {
     "name": "stdout",
     "output_type": "stream",
     "text": [
      "[[[ 1  2  3]\n",
      "  [ 4  5  6]]\n",
      "\n",
      " [[11 22  3]\n",
      "  [44 55 66]]]\n"
     ]
    }
   ],
   "source": [
    "arr3D = np.array([[[1, 2, 3], [4, 5, 6]], [[11, 22, 3], [44, 55, 66]]])\n",
    "print(arr3D)"
   ]
  },
  {
   "cell_type": "markdown",
   "id": "3af58553",
   "metadata": {},
   "source": [
    "#### check number of dimensions"
   ]
  },
  {
   "cell_type": "code",
   "execution_count": 7,
   "id": "ddbcf8ef",
   "metadata": {},
   "outputs": [
    {
     "name": "stdout",
     "output_type": "stream",
     "text": [
      "3\n"
     ]
    },
    {
     "data": {
      "text/plain": [
       "False"
      ]
     },
     "execution_count": 7,
     "metadata": {},
     "output_type": "execute_result"
    }
   ],
   "source": [
    "print(arr3D.ndim)\n",
    "callable(arr3D.ndim) # this is how you know if a function is callable or not"
   ]
  },
  {
   "cell_type": "markdown",
   "id": "2d6a3805",
   "metadata": {},
   "source": [
    "#### Higher dimensional Arrays\n",
    "we can define number of dimensions while creating an array"
   ]
  },
  {
   "cell_type": "code",
   "execution_count": 8,
   "id": "fb05ce32",
   "metadata": {},
   "outputs": [
    {
     "name": "stdout",
     "output_type": "stream",
     "text": [
      "[[[[[1 2 3 4]]]]]\n",
      "number of dim : 5\n"
     ]
    }
   ],
   "source": [
    "arrHD = np.array([1, 2, 3, 4], ndmin=5)\n",
    "print(arrHD)\n",
    "print('number of dim :', arrHD.ndim)"
   ]
  },
  {
   "cell_type": "markdown",
   "id": "27ad8aff",
   "metadata": {},
   "source": [
    "in this array the innermost dim(5th dim) has 4 elements, 4th dim has 1, 3rd has 1, 2nd has 1 too and so had 1st"
   ]
  },
  {
   "cell_type": "markdown",
   "id": "2c626510",
   "metadata": {},
   "source": [
    "## Numpy array indexing\n",
    "### Access array elements\n",
    "array indexing is same as accessing an array element"
   ]
  },
  {
   "cell_type": "code",
   "execution_count": 9,
   "id": "015b319f",
   "metadata": {},
   "outputs": [
    {
     "name": "stdout",
     "output_type": "stream",
     "text": [
      "1\n",
      "2\n",
      "5\n"
     ]
    }
   ],
   "source": [
    "# arr = np.array([1, 2, 3, 4, 5])\n",
    "print(arr[0])\n",
    "print(arr[1])\n",
    "print(arr[4])"
   ]
  },
  {
   "cell_type": "markdown",
   "id": "05cee34d",
   "metadata": {},
   "source": [
    "#### Accessing 2-D\n",
    "we can use comma seperated integers representing dimension and the index of the element.  \n",
    "think of dimension like row and index as column for the array "
   ]
  },
  {
   "cell_type": "code",
   "execution_count": 10,
   "id": "3a8ae5ec",
   "metadata": {},
   "outputs": [
    {
     "name": "stdout",
     "output_type": "stream",
     "text": [
      "2nd element of 1st row:  2\n"
     ]
    }
   ],
   "source": [
    "# arr2D = np.array([[1, 2, 3], [4, 5, 6]])\n",
    "print('2nd element of 1st row: ', arr2D[0, 1])"
   ]
  },
  {
   "cell_type": "markdown",
   "id": "d7e6004e",
   "metadata": {},
   "source": [
    "#### Accessing 3-D\n",
    "we can use comma seperated integers representing the dimensions and the index of the element"
   ]
  },
  {
   "cell_type": "code",
   "execution_count": 11,
   "id": "1c246e43",
   "metadata": {},
   "outputs": [
    {
     "name": "stdout",
     "output_type": "stream",
     "text": [
      "6\n"
     ]
    }
   ],
   "source": [
    "# arr3D = np.array([[[1, 2, 3], [4, 5, 6]], [[11, 22, 3], [44, 55, 66]]])\n",
    "print(arr3D[0, 1, 2])"
   ]
  },
  {
   "cell_type": "markdown",
   "id": "b5e4e23c",
   "metadata": {},
   "source": [
    "#### Negative indexing\n",
    "we can use negative indexing to access an array from end"
   ]
  },
  {
   "cell_type": "code",
   "execution_count": 12,
   "id": "7723c992",
   "metadata": {},
   "outputs": [
    {
     "name": "stdout",
     "output_type": "stream",
     "text": [
      "last element from 2nd dim:  6\n"
     ]
    }
   ],
   "source": [
    "array1 = np.array([[1, 2, 3], [4, 5, 6]])\n",
    "\n",
    "print('last element from 2nd dim: ', array1[1, -1])"
   ]
  },
  {
   "cell_type": "markdown",
   "id": "4a615f02",
   "metadata": {},
   "source": [
    "## Numpy array slicing\n",
    "### Slicing arrays\n",
    "slicing here means making an array by taking element from one element to another.  \n",
    "* we pass slice instead of index like this: *[start:end]*  \n",
    "* we can also define the step, like this: *[start:end:step]*  \n",
    "* if we don't pass start, it's considered 0  \n",
    "* if we don't pass end, it's condidered length of array in that dimension  \n",
    "* if we don't pass step, its considered 1  \n",
    "**The result includes the start index but exludes the end index**"
   ]
  },
  {
   "cell_type": "code",
   "execution_count": 13,
   "id": "c8942021",
   "metadata": {},
   "outputs": [
    {
     "name": "stdout",
     "output_type": "stream",
     "text": [
      "[2 3 4 5]\n"
     ]
    }
   ],
   "source": [
    "array2 = np.array([1, 2, 3, 4, 5, 6, 7])\n",
    "print(array2[1:5])"
   ]
  },
  {
   "cell_type": "markdown",
   "id": "6e0d4b3e",
   "metadata": {},
   "source": [
    "#### Negative slicing\n",
    "use the minus operator to refer an index from the end"
   ]
  },
  {
   "cell_type": "code",
   "execution_count": 14,
   "id": "2b941f32",
   "metadata": {},
   "outputs": [
    {
     "name": "stdout",
     "output_type": "stream",
     "text": [
      "[5 6]\n"
     ]
    }
   ],
   "source": [
    "print(array2[-3:-1])"
   ]
  },
  {
   "cell_type": "markdown",
   "id": "4a968635",
   "metadata": {},
   "source": [
    "#### Step\n",
    "we use **step** to have steps in our slicing"
   ]
  },
  {
   "cell_type": "code",
   "execution_count": 15,
   "id": "b61afd92",
   "metadata": {},
   "outputs": [
    {
     "name": "stdout",
     "output_type": "stream",
     "text": [
      "[2 4]\n"
     ]
    }
   ],
   "source": [
    "print(array2[1:5:2])"
   ]
  },
  {
   "cell_type": "markdown",
   "id": "df455f9c",
   "metadata": {},
   "source": [
    "returning every alternate element"
   ]
  },
  {
   "cell_type": "code",
   "execution_count": 16,
   "id": "c53865ed",
   "metadata": {},
   "outputs": [
    {
     "name": "stdout",
     "output_type": "stream",
     "text": [
      "[1 3 5 7]\n"
     ]
    }
   ],
   "source": [
    "print(array2[::2])"
   ]
  },
  {
   "cell_type": "markdown",
   "id": "d0bfe90c",
   "metadata": {},
   "source": [
    "### Slicing 2-D arrays"
   ]
  },
  {
   "cell_type": "code",
   "execution_count": 17,
   "id": "80053bee",
   "metadata": {},
   "outputs": [
    {
     "name": "stdout",
     "output_type": "stream",
     "text": [
      "[7 8 9]\n"
     ]
    }
   ],
   "source": [
    "# from the second element, slice elements from index 1 to index 4 (not included)\n",
    "\n",
    "arr2 = np.array([[1, 2, 3, 4, 5], [6, 7, 8, 9, 10]])\n",
    "\n",
    "print(arr2[1, 1:4])"
   ]
  },
  {
   "cell_type": "markdown",
   "id": "387afc42",
   "metadata": {},
   "source": [
    "we can also use slicing for both dim and index"
   ]
  },
  {
   "cell_type": "code",
   "execution_count": 18,
   "id": "a2f15905",
   "metadata": {},
   "outputs": [
    {
     "name": "stdout",
     "output_type": "stream",
     "text": [
      "[15 25]\n"
     ]
    }
   ],
   "source": [
    "qrr = np.array([10, 15, 20, 25, 30, 35, 40])\n",
    "print(qrr[1:4:2])"
   ]
  },
  {
   "cell_type": "markdown",
   "id": "4043af50",
   "metadata": {},
   "source": [
    "## Data types in numpy\n",
    "\n",
    "getting the datatype of a numpy array"
   ]
  },
  {
   "cell_type": "code",
   "execution_count": 19,
   "id": "07ec695b",
   "metadata": {},
   "outputs": [
    {
     "name": "stdout",
     "output_type": "stream",
     "text": [
      "int32\n",
      "<U5\n"
     ]
    }
   ],
   "source": [
    "print(arr.dtype)\n",
    "strArr  = np.array(['ssssh', 'as', 'hi'])\n",
    "print(strArr.dtype)"
   ]
  },
  {
   "cell_type": "markdown",
   "id": "3aa76438",
   "metadata": {},
   "source": [
    "here's a list of codes for each datatype in numpy  \n",
    "* i - integer\n",
    "* b - boolean\n",
    "* u - unsigned integer\n",
    "* f - float\n",
    "* c - complex float\n",
    "* m - timedelta\n",
    "* M - datetime\n",
    "* O - object\n",
    "* S - string\n",
    "* U - unicode string (the number that follows it shows the length of longest string)\n",
    "* V - fixed chunk of memory for other type ( void )"
   ]
  },
  {
   "cell_type": "markdown",
   "id": "e8ad21bc",
   "metadata": {},
   "source": [
    "### Creating an array with specified datatype\n",
    "in numpy we can specify the data type of elements while creating an array"
   ]
  },
  {
   "cell_type": "code",
   "execution_count": 20,
   "id": "84c8e7a7",
   "metadata": {},
   "outputs": [
    {
     "name": "stdout",
     "output_type": "stream",
     "text": [
      "[b'1' b'2' b'3' b'4']\n"
     ]
    }
   ],
   "source": [
    "arrString = np.array([1, 2, 3, 4], dtype='S')\n",
    "print(arrString)"
   ]
  },
  {
   "cell_type": "markdown",
   "id": "e54c48cc",
   "metadata": {},
   "source": [
    "For i, u, f, S and U we can define size as well.  \n",
    "for example we can create an array of datatype i4, which means number which takes 4 bytes (i.e., 32 bits) size"
   ]
  },
  {
   "cell_type": "code",
   "execution_count": 21,
   "id": "5c35e297",
   "metadata": {},
   "outputs": [
    {
     "name": "stdout",
     "output_type": "stream",
     "text": [
      "int32\n"
     ]
    }
   ],
   "source": [
    "arr4bit = np.array([4, 5, 6], dtype='i4')\n",
    "print(arr4bit.dtype)"
   ]
  },
  {
   "cell_type": "markdown",
   "id": "02531528",
   "metadata": {},
   "source": [
    "### Converting datatype of an existing array\n",
    "one way to convert the datatype of a numpy array is to create a copy of it using astype() function which gives us the ability to specify the datatype as an argument.  \n",
    "for example"
   ]
  },
  {
   "cell_type": "code",
   "execution_count": 22,
   "id": "12f968d6",
   "metadata": {},
   "outputs": [
    {
     "name": "stdout",
     "output_type": "stream",
     "text": [
      "[1 2 3 4]\n",
      "int32\n"
     ]
    }
   ],
   "source": [
    "arrInt = arrString.astype(dtype='i')\n",
    "print(arrInt)\n",
    "print(arrInt.dtype)"
   ]
  },
  {
   "cell_type": "markdown",
   "id": "f422359d",
   "metadata": {},
   "source": [
    "we can also convert from int to boolean"
   ]
  },
  {
   "cell_type": "code",
   "execution_count": 23,
   "id": "ff6e2800",
   "metadata": {},
   "outputs": [
    {
     "name": "stdout",
     "output_type": "stream",
     "text": [
      "[ True False  True]\n"
     ]
    }
   ],
   "source": [
    "arrBool = np.array([1, 0, 3]).astype(dtype=bool)\n",
    "print(arrBool)"
   ]
  },
  {
   "cell_type": "markdown",
   "id": "df06774d",
   "metadata": {},
   "source": [
    "## Numpy array COPY vs VIEW\n",
    "the main difference between both is that the copy is a new array independent of the original one while view is just a view of the original one, so any change to copy won't affect the original one but for view it does.  \n",
    "### COPY\n",
    "for example copying an array and then making changes to the copy"
   ]
  },
  {
   "cell_type": "code",
   "execution_count": 24,
   "id": "4e3df975",
   "metadata": {},
   "outputs": [
    {
     "name": "stdout",
     "output_type": "stream",
     "text": [
      "[2 4 7]\n",
      "[9 4 7]\n"
     ]
    }
   ],
   "source": [
    "arrOrig = np.array([2, 4, 7])\n",
    "arrCopy = arrOrig.copy()\n",
    "arrCopy[0] = 9\n",
    "\n",
    "print(arrOrig)\n",
    "print(arrCopy)"
   ]
  },
  {
   "cell_type": "markdown",
   "id": "58fe7e5b",
   "metadata": {},
   "source": [
    "### VIEW\n",
    "for example, create a view and then edit the original one and then print both"
   ]
  },
  {
   "cell_type": "code",
   "execution_count": 25,
   "id": "33bd744c",
   "metadata": {},
   "outputs": [
    {
     "name": "stdout",
     "output_type": "stream",
     "text": [
      "[12  4  7]\n",
      "[12  4  7]\n"
     ]
    }
   ],
   "source": [
    "arrView = arrOrig.view()\n",
    "arrOrig[0] = 12\n",
    "\n",
    "print(arrOrig)\n",
    "print(arrView)"
   ]
  },
  {
   "cell_type": "markdown",
   "id": "a1682314",
   "metadata": {},
   "source": [
    "so it's a view, that's why both changed.  \n",
    "now let's make a change in the view and then see both"
   ]
  },
  {
   "cell_type": "code",
   "execution_count": 26,
   "id": "a1aa472f",
   "metadata": {},
   "outputs": [
    {
     "name": "stdout",
     "output_type": "stream",
     "text": [
      "[12 98  7]\n",
      "[12 98  7]\n"
     ]
    }
   ],
   "source": [
    "arrView[1] = 98\n",
    "\n",
    "print(arrView)\n",
    "print(arrOrig)"
   ]
  },
  {
   "cell_type": "markdown",
   "id": "0af3a12c",
   "metadata": {},
   "source": [
    "again both changes, as stated earlier.  \n",
    "### Check if Array Owns its Data\n",
    "As mentioned above, copies owns the data, and views does not own the data, but how can we check this?  \n",
    "Every NumPy array has the attribute base that returns None if the array owns the data.  \n",
    "Otherwise, the base  attribute refers to the original object.  "
   ]
  },
  {
   "cell_type": "code",
   "execution_count": 27,
   "id": "fd2ce4d6",
   "metadata": {},
   "outputs": [
    {
     "name": "stdout",
     "output_type": "stream",
     "text": [
      "[12 98  7]\n",
      "None\n",
      "None\n"
     ]
    }
   ],
   "source": [
    "print(arrView.base)\n",
    "print(arrCopy.base)\n",
    "print(arrOrig.base)"
   ]
  },
  {
   "cell_type": "markdown",
   "id": "fd7ec0f6",
   "metadata": {},
   "source": [
    "## Numpy array shape\n",
    "shape of an array is the number of elements in each dimension.  \n",
    "shape() returns a tuple of sizes"
   ]
  },
  {
   "cell_type": "code",
   "execution_count": 28,
   "id": "0fe1f9aa",
   "metadata": {},
   "outputs": [
    {
     "name": "stdout",
     "output_type": "stream",
     "text": [
      "(2, 3)\n"
     ]
    }
   ],
   "source": [
    "print(arr2D.shape)"
   ]
  },
  {
   "cell_type": "markdown",
   "id": "f6cb1721",
   "metadata": {},
   "source": [
    "The example above returns (2, 3), which means that the array has 2 dimensions, where the first dimension has 2 elements and the second has 3.  \n",
    "  \n",
    "creating an array with shape 5 using **ndmin**"
   ]
  },
  {
   "cell_type": "code",
   "execution_count": 29,
   "id": "f88a13d8",
   "metadata": {},
   "outputs": [
    {
     "name": "stdout",
     "output_type": "stream",
     "text": [
      "[[[[[1 2 3 4]]]]]\n",
      "(1, 1, 1, 1, 4)\n"
     ]
    }
   ],
   "source": [
    "arr5 = np.array([1, 2, 3, 4], ndmin=5)\n",
    "\n",
    "print(arr5)\n",
    "print(arr5.shape)"
   ]
  },
  {
   "cell_type": "markdown",
   "id": "82a92f3a",
   "metadata": {},
   "source": [
    "## Array reshaping\n",
    "we can reshape an array into different other shapes.  "
   ]
  },
  {
   "cell_type": "code",
   "execution_count": 30,
   "id": "77ae69d8",
   "metadata": {},
   "outputs": [
    {
     "data": {
      "text/plain": [
       "array([[ 1,  2,  3,  4,  5],\n",
       "       [ 6,  7,  8,  9, 10]])"
      ]
     },
     "execution_count": 30,
     "metadata": {},
     "output_type": "execute_result"
    }
   ],
   "source": [
    "newArr = np.array([1, 2, 3, 4, 5, 6, 7, 8, 9, 10])\n",
    "\n",
    "reshapedArr = newArr.reshape((2, 5))\n",
    "\n",
    "reshapedArr"
   ]
  },
  {
   "cell_type": "markdown",
   "id": "7b2a3902",
   "metadata": {},
   "source": [
    "we can reshape to any shape as long as number of elements is possible for that shape.  \n",
    "for example we cannot reshape a vector of length 10 into an array of (3, 3) shape, because this shape can only have **9** elements while there are 10.  \n",
    "**Note: this reshaped array is a view of the original array and not the copy**"
   ]
  },
  {
   "cell_type": "markdown",
   "id": "4e0abb5d",
   "metadata": {},
   "source": [
    "### Unknown shape\n",
    "we can also pass **-1** in shape and numpy will calculate that number for you.  \n",
    "for example:"
   ]
  },
  {
   "cell_type": "code",
   "execution_count": 31,
   "id": "2610c590",
   "metadata": {},
   "outputs": [
    {
     "data": {
      "text/plain": [
       "array([[ 1,  2,  3,  4,  5],\n",
       "       [ 6,  7,  8,  9, 10]])"
      ]
     },
     "execution_count": 31,
     "metadata": {},
     "output_type": "execute_result"
    }
   ],
   "source": [
    "reshapedArr2 = newArr.reshape((2, -1))\n",
    "reshapedArr2"
   ]
  },
  {
   "cell_type": "markdown",
   "id": "eda94f81",
   "metadata": {},
   "source": [
    "### Flatening the array\n",
    "we can change an array of any shape into a 1-D array.  \n",
    "we pass -1 as shape to do so"
   ]
  },
  {
   "cell_type": "code",
   "execution_count": 32,
   "id": "d92611de",
   "metadata": {},
   "outputs": [
    {
     "data": {
      "text/plain": [
       "array([1, 2, 3, 4, 5])"
      ]
     },
     "execution_count": 32,
     "metadata": {},
     "output_type": "execute_result"
    }
   ],
   "source": [
    "arr2 = np.array([[1, 2, 3], [4, 5, 6]])\n",
    "\n",
    "newarr = arr.reshape(-1)\n",
    "newarr"
   ]
  },
  {
   "cell_type": "markdown",
   "id": "879677fd",
   "metadata": {},
   "source": [
    "## Numpy array iterating\n",
    "we can iterate over elements of an array using for loop (like a list)"
   ]
  },
  {
   "cell_type": "code",
   "execution_count": 33,
   "id": "3e6b6db8",
   "metadata": {},
   "outputs": [
    {
     "name": "stdout",
     "output_type": "stream",
     "text": [
      "1\n",
      "2\n",
      "3\n"
     ]
    }
   ],
   "source": [
    "arr = np.array([1, 2, 3])\n",
    "\n",
    "for x in arr:\n",
    "  print(x)"
   ]
  },
  {
   "cell_type": "markdown",
   "id": "2ee1c398",
   "metadata": {},
   "source": [
    "iterating 2D array"
   ]
  },
  {
   "cell_type": "code",
   "execution_count": 34,
   "id": "2ee68e34",
   "metadata": {},
   "outputs": [
    {
     "name": "stdout",
     "output_type": "stream",
     "text": [
      "[1 2 3]\n",
      "[4 5 6]\n"
     ]
    }
   ],
   "source": [
    "arr = np.array([[1, 2, 3], [4, 5, 6]])\n",
    "\n",
    "for x in arr:\n",
    "  print(x)"
   ]
  },
  {
   "cell_type": "markdown",
   "id": "39c60268",
   "metadata": {},
   "source": [
    "iterating over each element of the array"
   ]
  },
  {
   "cell_type": "code",
   "execution_count": 35,
   "id": "a1e0eea0",
   "metadata": {},
   "outputs": [
    {
     "name": "stdout",
     "output_type": "stream",
     "text": [
      "1\n",
      "2\n",
      "3\n",
      "4\n",
      "5\n",
      "6\n"
     ]
    }
   ],
   "source": [
    "arr = np.array([[1, 2, 3], [4, 5, 6]])\n",
    "\n",
    "for x in arr:\n",
    "  for y in x:\n",
    "    print(y)"
   ]
  },
  {
   "cell_type": "markdown",
   "id": "ba3509b9",
   "metadata": {},
   "source": [
    "### iterating arrays using nditer\n",
    "if we use basic **for** loop then in order to iterate over each element we would need n **for** loops which can be computationaly expensive as well as messy, so to solve that numpy has **nditer**."
   ]
  },
  {
   "cell_type": "code",
   "execution_count": 36,
   "id": "e1762c79",
   "metadata": {},
   "outputs": [
    {
     "name": "stdout",
     "output_type": "stream",
     "text": [
      "1\n",
      "2\n",
      "3\n",
      "4\n",
      "5\n",
      "6\n",
      "7\n",
      "8\n"
     ]
    }
   ],
   "source": [
    "arr = np.array([[[1, 2], [3, 4]], [[5, 6], [7, 8]]])\n",
    "\n",
    "for x in np.nditer(arr):\n",
    "  print(x)"
   ]
  },
  {
   "cell_type": "markdown",
   "id": "5d77cb13",
   "metadata": {},
   "source": [
    "### Iterating with different step size\n",
    "we can also iterate over an array with a step size, by passing not the whole array but a **slice** of it which is sliced with step size to the **nditer()**"
   ]
  },
  {
   "cell_type": "code",
   "execution_count": 37,
   "id": "628cbd9b",
   "metadata": {},
   "outputs": [
    {
     "name": "stdout",
     "output_type": "stream",
     "text": [
      "1\n",
      "3\n",
      "5\n",
      "7\n"
     ]
    }
   ],
   "source": [
    "arr = np.array([[1, 2, 3, 4], [5, 6, 7, 8]])\n",
    "\n",
    "for x in np.nditer(arr[:, ::2]):\n",
    "  print(x)"
   ]
  },
  {
   "cell_type": "markdown",
   "id": "fdad0730",
   "metadata": {},
   "source": [
    "### Enumerated Iteration Using ndenumerate()\n",
    "sometimes we need the index of element too while iterating. That's when we use eumeration which returns element as well as it's index while iterating. (index, element)."
   ]
  },
  {
   "cell_type": "code",
   "execution_count": 38,
   "id": "d6da5e23",
   "metadata": {},
   "outputs": [
    {
     "name": "stdout",
     "output_type": "stream",
     "text": [
      "(0,) 1\n",
      "(1,) 2\n",
      "(2,) 3\n",
      "(3,) 4\n",
      "(4,) 5\n",
      "(5,) 6\n"
     ]
    }
   ],
   "source": [
    "arr = np.array([1, 2, 3, 4, 5, 6])\n",
    "\n",
    "for i, x in np.ndenumerate(arr):\n",
    "    print(i, x)"
   ]
  },
  {
   "cell_type": "markdown",
   "id": "51c63a2e",
   "metadata": {},
   "source": [
    "now let's try on a 2D array"
   ]
  },
  {
   "cell_type": "code",
   "execution_count": 39,
   "id": "594deede",
   "metadata": {},
   "outputs": [
    {
     "name": "stdout",
     "output_type": "stream",
     "text": [
      "(0, 0) 1\n",
      "(0, 1) 2\n",
      "(0, 2) 3\n",
      "(0, 3) 4\n",
      "(1, 0) 5\n",
      "(1, 1) 6\n",
      "(1, 2) 7\n",
      "(1, 3) 8\n"
     ]
    }
   ],
   "source": [
    "arr = np.array([[1, 2, 3, 4], [5, 6, 7, 8]])\n",
    "\n",
    "for i, x in np.ndenumerate(arr):\n",
    "    print(i, x)"
   ]
  },
  {
   "cell_type": "markdown",
   "id": "33d5e90f",
   "metadata": {},
   "source": [
    "## Joining arrays\n",
    "in numpy we can add two or more numpy arrays into one by using concatenate()...  \n",
    "the arrays are added by axis, we can specify or it is by default as 0."
   ]
  },
  {
   "cell_type": "code",
   "execution_count": 43,
   "id": "7e2003a4",
   "metadata": {},
   "outputs": [
    {
     "data": {
      "text/plain": [
       "array([1, 3, 5, 2, 4, 6])"
      ]
     },
     "execution_count": 43,
     "metadata": {},
     "output_type": "execute_result"
    }
   ],
   "source": [
    "arr1 = np.array([1, 3, 5])\n",
    "arr2 = np.array([2, 4, 6])\n",
    "\n",
    "arrF = np.concatenate((arr1, arr2))\n",
    "arrF"
   ]
  },
  {
   "cell_type": "markdown",
   "id": "8ddf8f59",
   "metadata": {},
   "source": [
    "now joining 2D arrays"
   ]
  },
  {
   "cell_type": "code",
   "execution_count": 47,
   "id": "740d94cb",
   "metadata": {},
   "outputs": [
    {
     "name": "stdout",
     "output_type": "stream",
     "text": [
      "[[1 2 5 6]\n",
      " [3 4 7 8]]\n",
      "[[1 2]\n",
      " [3 4]\n",
      " [5 6]\n",
      " [7 8]]\n"
     ]
    }
   ],
   "source": [
    "arr1 = np.array([[1, 2], [3, 4]])\n",
    "\n",
    "arr2 = np.array([[5, 6], [7, 8]])\n",
    "\n",
    "arr11 = np.concatenate((arr1, arr2), axis=1)\n",
    "arr0 = np.concatenate((arr1, arr2), axis=0)\n",
    "\n",
    "print(arr11)\n",
    "print(arr0)"
   ]
  },
  {
   "cell_type": "markdown",
   "id": "8173b815",
   "metadata": {},
   "source": [
    "### Joining arrays using stacking\n",
    "stacking is same as concatenating, the only difference is stacking creates new axis.  \n",
    "\n",
    "* concatenate → same dimensionality, extend an axis.\n",
    "* stack → increase dimensionality by 1, new axis appears."
   ]
  },
  {
   "cell_type": "code",
   "execution_count": 54,
   "id": "40b5d6c3",
   "metadata": {},
   "outputs": [
    {
     "name": "stdout",
     "output_type": "stream",
     "text": [
      "(2, 2, 2)\n",
      "[[[1 2]\n",
      "  [5 6]]\n",
      "\n",
      " [[3 4]\n",
      "  [7 8]]]\n"
     ]
    }
   ],
   "source": [
    "arrStacked = np.stack((arr1, arr2), axis=1)\n",
    "print(arrStacked.shape)\n",
    "print(arrStacked)"
   ]
  },
  {
   "cell_type": "markdown",
   "id": "66cb4652",
   "metadata": {},
   "source": [
    "### Stacking along rows\n",
    "numpy have **hstack** to stack along row"
   ]
  },
  {
   "cell_type": "code",
   "execution_count": 51,
   "id": "2e3a9e04",
   "metadata": {},
   "outputs": [
    {
     "name": "stdout",
     "output_type": "stream",
     "text": [
      "[[1 2 5 6]\n",
      " [3 4 7 8]]\n",
      "(2, 4)\n"
     ]
    }
   ],
   "source": [
    "arrRS = np.hstack((arr1, arr2))\n",
    "print(arrRS)\n",
    "print(arrRS.shape)"
   ]
  },
  {
   "cell_type": "markdown",
   "id": "4a947016",
   "metadata": {},
   "source": [
    "similarly we have  \n",
    "### Stacking along columns\n",
    "nump have **vstack** for this too"
   ]
  },
  {
   "cell_type": "code",
   "execution_count": 55,
   "id": "771fb503",
   "metadata": {},
   "outputs": [
    {
     "name": "stdout",
     "output_type": "stream",
     "text": [
      "[[1 2]\n",
      " [3 4]\n",
      " [5 6]\n",
      " [7 8]]\n",
      "(4, 2)\n"
     ]
    }
   ],
   "source": [
    "arrVS = np.vstack((arr1, arr2))\n",
    "print(arrVS)\n",
    "print(arrVS.shape)"
   ]
  },
  {
   "cell_type": "markdown",
   "id": "b495bb4d",
   "metadata": {},
   "source": [
    "### Stacking Along Height (depth)\n",
    "numpy have dstack to stack along height (which is depth too)"
   ]
  },
  {
   "cell_type": "code",
   "execution_count": 56,
   "id": "baee7dac",
   "metadata": {},
   "outputs": [
    {
     "name": "stdout",
     "output_type": "stream",
     "text": [
      "[[[1 5]\n",
      "  [2 6]]\n",
      "\n",
      " [[3 7]\n",
      "  [4 8]]]\n",
      "(2, 2, 2)\n"
     ]
    }
   ],
   "source": [
    "arrDS = np.dstack((arr1, arr2))\n",
    "print(arrDS)\n",
    "print(arrDS.shape)"
   ]
  },
  {
   "cell_type": "markdown",
   "id": "d4442f7c",
   "metadata": {},
   "source": [
    "[yaha se](https://www.w3schools.com/python/numpy/numpy_array_split.asp)"
   ]
  }
 ],
 "metadata": {
  "kernelspec": {
   "display_name": "base",
   "language": "python",
   "name": "python3"
  },
  "language_info": {
   "codemirror_mode": {
    "name": "ipython",
    "version": 3
   },
   "file_extension": ".py",
   "mimetype": "text/x-python",
   "name": "python",
   "nbconvert_exporter": "python",
   "pygments_lexer": "ipython3",
   "version": "3.12.7"
  }
 },
 "nbformat": 4,
 "nbformat_minor": 5
}
